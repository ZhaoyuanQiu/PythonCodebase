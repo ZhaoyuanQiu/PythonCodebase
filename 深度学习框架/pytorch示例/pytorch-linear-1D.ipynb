{
 "cells": [
  {
   "cell_type": "markdown",
   "metadata": {},
   "source": [
    "# Pytorch scalar regression example \n",
    "\n",
    "* Author: J. Hickman\n",
    "* scalar linear regression  m(x,p)=p[0]+p[1]*x"
   ]
  },
  {
   "cell_type": "markdown",
   "metadata": {},
   "source": [
    "#### Import"
   ]
  },
  {
   "cell_type": "code",
   "execution_count": 1,
   "metadata": {},
   "outputs": [
    {
     "name": "stderr",
     "output_type": "stream",
     "text": [
      "\n",
      "Bad key text.latex.preview in file C:\\Users\\Lovecraft.Qiu\\AppData\\Roaming\\Python\\Python37\\site-packages\\matplotlib\\mpl-data\\stylelib\\_classic_test.mplstyle, line 123 ('text.latex.preview : False')\n",
      "You probably need to get an updated matplotlibrc file from\n",
      "https://github.com/matplotlib/matplotlib/blob/v3.5.3/matplotlibrc.template\n",
      "or from the matplotlib source distribution\n",
      "\n",
      "Bad key mathtext.fallback_to_cm in file C:\\Users\\Lovecraft.Qiu\\AppData\\Roaming\\Python\\Python37\\site-packages\\matplotlib\\mpl-data\\stylelib\\_classic_test.mplstyle, line 155 ('mathtext.fallback_to_cm : True  # When True, use symbols from the Computer Modern')\n",
      "You probably need to get an updated matplotlibrc file from\n",
      "https://github.com/matplotlib/matplotlib/blob/v3.5.3/matplotlibrc.template\n",
      "or from the matplotlib source distribution\n",
      "\n",
      "Bad key savefig.jpeg_quality in file C:\\Users\\Lovecraft.Qiu\\AppData\\Roaming\\Python\\Python37\\site-packages\\matplotlib\\mpl-data\\stylelib\\_classic_test.mplstyle, line 418 ('savefig.jpeg_quality: 95       # when a jpeg is saved, the default quality parameter.')\n",
      "You probably need to get an updated matplotlibrc file from\n",
      "https://github.com/matplotlib/matplotlib/blob/v3.5.3/matplotlibrc.template\n",
      "or from the matplotlib source distribution\n",
      "\n",
      "Bad key keymap.all_axes in file C:\\Users\\Lovecraft.Qiu\\AppData\\Roaming\\Python\\Python37\\site-packages\\matplotlib\\mpl-data\\stylelib\\_classic_test.mplstyle, line 466 ('keymap.all_axes : a                 # enable all axes')\n",
      "You probably need to get an updated matplotlibrc file from\n",
      "https://github.com/matplotlib/matplotlib/blob/v3.5.3/matplotlibrc.template\n",
      "or from the matplotlib source distribution\n",
      "\n",
      "Bad key animation.avconv_path in file C:\\Users\\Lovecraft.Qiu\\AppData\\Roaming\\Python\\Python37\\site-packages\\matplotlib\\mpl-data\\stylelib\\_classic_test.mplstyle, line 477 ('animation.avconv_path: avconv     # Path to avconv binary. Without full path')\n",
      "You probably need to get an updated matplotlibrc file from\n",
      "https://github.com/matplotlib/matplotlib/blob/v3.5.3/matplotlibrc.template\n",
      "or from the matplotlib source distribution\n",
      "\n",
      "Bad key animation.avconv_args in file C:\\Users\\Lovecraft.Qiu\\AppData\\Roaming\\Python\\Python37\\site-packages\\matplotlib\\mpl-data\\stylelib\\_classic_test.mplstyle, line 479 ('animation.avconv_args:            # Additional arguments to pass to avconv')\n",
      "You probably need to get an updated matplotlibrc file from\n",
      "https://github.com/matplotlib/matplotlib/blob/v3.5.3/matplotlibrc.template\n",
      "or from the matplotlib source distribution\n"
     ]
    }
   ],
   "source": [
    "import torch\n",
    "import numpy as np\n",
    "import matplotlib.pyplot as plt"
   ]
  },
  {
   "cell_type": "markdown",
   "metadata": {},
   "source": [
    "#### Generate data"
   ]
  },
  {
   "cell_type": "code",
   "execution_count": 2,
   "metadata": {},
   "outputs": [
    {
     "name": "stdout",
     "output_type": "stream",
     "text": [
      "EXACT PARAMETERS: [1.5, 2.5]\n"
     ]
    }
   ],
   "source": [
    "# GENERATE DATA TO FIT\n",
    "x=np.random.uniform(-3,10,100)\n",
    "p_exact=[1.5,2.5]\n",
    "y = (p_exact[0]+p_exact[1]*x) + 2.5*np.random.uniform(-1,1,size=len(x))\n",
    "print(\"EXACT PARAMETERS:\",p_exact)"
   ]
  },
  {
   "cell_type": "markdown",
   "metadata": {},
   "source": [
    "#### Neural network model\n",
    "\n",
    "nn.Module is the base class for all neural network modules.\n",
    "\n",
    "Your models should also subclass this class.\n",
    "\n",
    "Modules can also contain other Modules, allowing to nest them in a tree structure. You can assign the submodules as regular attributes:\n",
    "\n",
    "An __init__() call to the parent class must be made before assignment on the child.\n",
    "\n",
    "https://pytorch.org/docs/stable/generated/torch.nn.Module.html\n",
    "\n"
   ]
  },
  {
   "cell_type": "code",
   "execution_count": 3,
   "metadata": {},
   "outputs": [
    {
     "name": "stdout",
     "output_type": "stream",
     "text": [
      "USING cpu DEVICE\n",
      "NeuralNetwork(\n",
      "  (linear_model): Sequential(\n",
      "    (0): Linear(in_features=1, out_features=1, bias=True)\n",
      "  )\n",
      ")\n"
     ]
    }
   ],
   "source": [
    "# GET CPU OR GPU DEVICE FOR TRAINING.\n",
    "device = \"cuda\" if torch.cuda.is_available() else \"cpu\"\n",
    "print(f\"USING {device} DEVICE\")\n",
    "\n",
    "# # Define model\n",
    "class NeuralNetwork(torch.nn.Module):\n",
    "    def __init__(self):\n",
    "        #__init__() call to the parent class\n",
    "        super(NeuralNetwork, self).__init__()\n",
    "        #define linear model\n",
    "        self.linear_model = torch.nn.Sequential(\n",
    "            torch.nn.Linear(1, 1),\n",
    "        )\n",
    "\n",
    "    #FORWARD PASS (EVALUATION OF MODEL)\n",
    "    def forward(self, x):\n",
    "        out = self.linear_model(x)\n",
    "        return out\n",
    "\n",
    "#INITIALIZE MODEL \n",
    "model = NeuralNetwork().to(device)\n",
    "print(model)\n"
   ]
  },
  {
   "cell_type": "code",
   "execution_count": 4,
   "metadata": {},
   "outputs": [
    {
     "name": "stdout",
     "output_type": "stream",
     "text": [
      "Parameter containing:\n",
      "tensor([[-0.5876]], requires_grad=True)\n",
      "torch.Size([1, 1])\n",
      "True\n",
      "Parameter containing:\n",
      "tensor([-0.7949], requires_grad=True)\n",
      "torch.Size([1])\n",
      "True\n"
     ]
    }
   ],
   "source": [
    "#CHECK PARAMETERS (NOTICE HOW THEY WERE AUTOMATICALLY RANDOMIZED)\n",
    "for param in model.parameters():\n",
    "    print(param)\n",
    "    print(param.shape)\n",
    "    print(param.requires_grad)"
   ]
  },
  {
   "cell_type": "code",
   "execution_count": 5,
   "metadata": {},
   "outputs": [
    {
     "name": "stdout",
     "output_type": "stream",
     "text": [
      "X-VALIDATION: torch.Size([20, 1]) torch.float64\n",
      "Y-VALIDATION: torch.Size([20, 1]) torch.float64\n",
      "X-TRAIN: torch.Size([80, 1]) torch.float64\n",
      "Y-TRAIN: torch.Size([80, 1]) torch.float64\n",
      "PREDICTION: torch.Size([80, 1]) torch.float32\n"
     ]
    }
   ],
   "source": [
    "# CONVERT TO TORCH TENSOR AND EVALUATE MODEL AS A TEST\n",
    "x=torch.tensor(x).view(x.shape[0],1)\n",
    "y=torch.tensor(y).view(x.shape[0],1)\n",
    "\n",
    "from sklearn.model_selection import train_test_split\n",
    "x_train, x_val, y_train, y_val = train_test_split(x, y, test_size=0.2, random_state=0)\n",
    "\n",
    "print(\"X-VALIDATION:\",x_val.shape,x_val.dtype)\n",
    "print(\"Y-VALIDATION:\",y_val.shape,y_val.dtype)\n",
    "print(\"X-TRAIN:\",x_train.shape,x_train.dtype)\n",
    "print(\"Y-TRAIN:\",y_train.shape,y_train.dtype)\n",
    "y_pred = model(x_train.float())\n",
    "print(\"PREDICTION:\",y_pred.shape,y_pred.dtype)\n"
   ]
  },
  {
   "cell_type": "code",
   "execution_count": 7,
   "metadata": {},
   "outputs": [
    {
     "data": {
      "image/png": "[encoded data removed]",
      "text/plain": [
       "<Figure size 432x288 with 1 Axes>"
      ]
     },
     "metadata": {
      "needs_background": "light"
     },
     "output_type": "display_data"
    }
   ],
   "source": [
    "# PLOT THE FIGURE\n",
    "fig, ax = plt.subplots()\n",
    "ax.plot(x_train, y_train, 'o', label='training Data')\n",
    "ax.plot(x_val, y_val, 'o', label='validation Data')\n",
    "ax.plot(x_train, y_pred.detach().numpy(), '*', label='predictions for initial parameters')\n",
    "ax.legend()\n",
    "plt.show()"
   ]
  },
  {
   "cell_type": "markdown",
   "metadata": {},
   "source": [
    "#### Initialize "
   ]
  },
  {
   "cell_type": "code",
   "execution_count": 8,
   "metadata": {},
   "outputs": [],
   "source": [
    "\n",
    "#INITIALIZE ARRAYS TO SAVE HISTORY\n",
    "epoch_array=[]\n",
    "val_loss_history=[]\n",
    "train_loss_history=[]\n",
    "\n",
    "#INITIALIZE LOSS FUNCTION AND OPTIMIZER\n",
    "loss_fn = torch.nn.MSELoss()\n",
    "optimizer = torch.optim.SGD(model.parameters(), lr=1e-3)\n"
   ]
  },
  {
   "cell_type": "markdown",
   "metadata": {},
   "source": [
    "#### Utility functions "
   ]
  },
  {
   "cell_type": "code",
   "execution_count": 9,
   "metadata": {},
   "outputs": [],
   "source": [
    "i_print=True\n",
    "\n",
    "def train(x_train,y_train, model, loss_fn, optimizer):\n",
    "    #TELL MODEL IT SHOULD BE TRAINING\n",
    "    model.train()\n",
    "\n",
    "    #BATCH IMPLEMENTATION \n",
    "    X, y = x_train.to(device).float(), y_train.to(device).float()\n",
    "\n",
    "    # Compute prediction error\n",
    "    pred = model(X)\n",
    "    loss = loss_fn(pred, y)\n",
    "\n",
    "    # Backpropagation\n",
    "    optimizer.zero_grad()\n",
    "    loss.backward()\n",
    "    optimizer.step()\n",
    "\n",
    "    # if t % 5 == 0:\n",
    "    loss = loss.item() \n",
    "    train_loss_history.append(loss)\n",
    "\n",
    "    if(i_print):\n",
    "        print(f\"loss: {loss:>7f}\")"
   ]
  },
  {
   "cell_type": "code",
   "execution_count": 10,
   "metadata": {},
   "outputs": [],
   "source": [
    "def validate(x_val,y_val, model, loss_fn):\n",
    "    #TELL MODEL IT SHOULD BE EVALUATING\n",
    "    model.eval()\n",
    "    X, y = x_val.to(device).float(), y_val.to(device).float()\n",
    "    pred = model(X)\n",
    "    val_loss = loss_fn(pred, y).item()\n",
    "    val_loss_history.append(val_loss)\n",
    "    if(i_print):\n",
    "        print(f\"Test Error: {val_loss:>8f}\")\n",
    "\n",
    "    #FOR CLASSIFICATION \n",
    "    # correct += (pred.argmax(1) == y).type(torch.float).sum().item()\n",
    "    # correct /= y.shape[0]\n",
    "    # print(f\"Test Error: \\n Accuracy: {(100*correct):>0.1f}%, Avg loss: {test_loss:>8f} \\n\")"
   ]
  },
  {
   "cell_type": "markdown",
   "metadata": {},
   "source": [
    "#### Training loop"
   ]
  },
  {
   "cell_type": "code",
   "execution_count": 11,
   "metadata": {},
   "outputs": [
    {
     "name": "stdout",
     "output_type": "stream",
     "text": [
      "-------------------------------\n",
      "Epoch 0\n",
      "loss: 329.252594\n",
      "Test Error: 322.835754\n",
      "-------------------------------\n",
      "Epoch 50\n",
      "loss: 4.956655\n",
      "Test Error: 3.943248\n",
      "-------------------------------\n",
      "Epoch 100\n",
      "loss: 4.024057\n",
      "Test Error: 2.363604\n",
      "-------------------------------\n",
      "Epoch 150\n",
      "loss: 3.790490\n",
      "Test Error: 2.258068\n",
      "-------------------------------\n",
      "Epoch 200\n",
      "loss: 3.583926\n",
      "Test Error: 2.203113\n",
      "-------------------------------\n",
      "Epoch 250\n",
      "loss: 3.400152\n",
      "Test Error: 2.160176\n",
      "Done!\n"
     ]
    }
   ],
   "source": [
    "epochs = 300\n",
    "\n",
    "for t in range(epochs):\n",
    "    epoch_array.append(t)\n",
    "    if t%50==0:\n",
    "        i_print=True\n",
    "        print(f\"-------------------------------\\nEpoch {t}\")\n",
    "\n",
    "    else: \n",
    "        i_print=False\n",
    "\n",
    "    train(x_train,y_train, model, loss_fn, optimizer)\n",
    "    validate(x_val,y_val, model, loss_fn)\n",
    "print(\"Done!\")"
   ]
  },
  {
   "cell_type": "markdown",
   "metadata": {},
   "source": [
    "#### Plot results"
   ]
  },
  {
   "cell_type": "code",
   "execution_count": 12,
   "metadata": {},
   "outputs": [
    {
     "data": {
      "image/png": "[encoded data removed]",
      "text/plain": [
       "<Figure size 432x288 with 1 Axes>"
      ]
     },
     "metadata": {
      "needs_background": "light"
     },
     "output_type": "display_data"
    }
   ],
   "source": [
    "# PLOT THE FIGURE\n",
    "y_pred = model(x_train.float())\n",
    "\n",
    "# PLOT THE FIGURE\n",
    "fig, ax = plt.subplots()\n",
    "ax.plot(x_train, y_train, 'o', label='training Data')\n",
    "ax.plot(x_val, y_val, 'o', label='validation Data')\n",
    "ax.plot(x_train, y_pred.detach().numpy(), '-', label='predictions')\n",
    "ax.legend()\n",
    "plt.show()"
   ]
  },
  {
   "cell_type": "code",
   "execution_count": 13,
   "metadata": {},
   "outputs": [
    {
     "data": {
      "image/png": "[encoded data removed]",
      "text/plain": [
       "<Figure size 432x288 with 1 Axes>"
      ]
     },
     "metadata": {
      "needs_background": "light"
     },
     "output_type": "display_data"
    }
   ],
   "source": [
    "# PLOT THE FIGURE\n",
    "y_pred = model(x_train.float())\n",
    "\n",
    "fig, ax = plt.subplots()\n",
    "ax.plot(epoch_array, train_loss_history, '-', label='training loss')\n",
    "ax.plot(epoch_array, val_loss_history, '-', label='validation loss')\n",
    "ax.legend()\n",
    "plt.show()"
   ]
  },
  {
   "cell_type": "code",
   "execution_count": null,
   "metadata": {},
   "outputs": [],
   "source": []
  }
 ],
 "metadata": {
  "kernelspec": {
   "display_name": "Python 3 (ipykernel)",
   "language": "python",
   "name": "python3"
  },
  "language_info": {
   "codemirror_mode": {
    "name": "ipython",
    "version": 3
   },
   "file_extension": ".py",
   "mimetype": "text/x-python",
   "name": "python",
   "nbconvert_exporter": "python",
   "pygments_lexer": "ipython3",
   "version": "3.7.11"
  },
  "vscode": {
   "interpreter": {
    "hash": "2b6082c1c9eef3a910163f232074f2e179e34ed8469dd2c24c723d1290ad549e"
   }
  }
 },
 "nbformat": 4,
 "nbformat_minor": 2
}
